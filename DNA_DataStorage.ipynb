{
  "nbformat": 4,
  "nbformat_minor": 0,
  "metadata": {
    "colab": {
      "name": "DNA_DataStorage",
      "provenance": [],
      "collapsed_sections": [],
      "include_colab_link": true
    },
    "kernelspec": {
      "display_name": "Python 3",
      "name": "python3"
    }
  },
  "cells": [
    {
      "cell_type": "markdown",
      "metadata": {
        "id": "view-in-github",
        "colab_type": "text"
      },
      "source": [
        "<a href=\"https://colab.research.google.com/github/saber-030/Python-Codes/blob/master/DNA_DataStorage.ipynb\" target=\"_parent\"><img src=\"https://colab.research.google.com/assets/colab-badge.svg\" alt=\"Open In Colab\"/></a>"
      ]
    },
    {
      "cell_type": "code",
      "metadata": {
        "id": "CvmThzLq0l_2",
        "colab_type": "code",
        "colab": {}
      },
      "source": [
        "#import statements\n",
        "import lzma\n",
        "import gzip\n",
        "import bz2\n",
        "import binascii\n",
        "from urllib.request import urlopen\n",
        "from bs4 import BeautifulSoup\n",
        "import pandas as pd\n"
      ],
      "execution_count": 58,
      "outputs": []
    },
    {
      "cell_type": "code",
      "metadata": {
        "id": "pwVlymJTI_3x",
        "colab_type": "code",
        "colab": {}
      },
      "source": [
        "def bzip_compression(data):\n",
        "    data_out = bz2.compress(data)\n",
        "    # print(len(data) / len(data_out))\n",
        " \n",
        "    return data_out\n"
      ],
      "execution_count": 2,
      "outputs": []
    },
    {
      "cell_type": "code",
      "metadata": {
        "id": "EMhth_XEI_34",
        "colab_type": "code",
        "colab": {}
      },
      "source": [
        "def gzip_compression(data):\n",
        "    data_out = gzip.compress(data)\n",
        "    # print(len(data) / len(data_out))\n",
        "\n",
        "    return data_out"
      ],
      "execution_count": 3,
      "outputs": []
    },
    {
      "cell_type": "code",
      "metadata": {
        "id": "cti5H4zeI_3_",
        "colab_type": "code",
        "colab": {}
      },
      "source": [
        "def lzma_compression(data):\n",
        "    data_out = lzma.compress(data)\n",
        "    # print(len(data)/len(data_out))\n",
        "\n",
        "    return data_out\n"
      ],
      "execution_count": 4,
      "outputs": []
    },
    {
      "cell_type": "code",
      "metadata": {
        "id": "O8lUMnCVI_4F",
        "colab_type": "code",
        "colab": {}
      },
      "source": [
        "def bzip_decompression(compressed_data):\n",
        "    return bz2.decompress(compressed_data)"
      ],
      "execution_count": 5,
      "outputs": []
    },
    {
      "cell_type": "code",
      "metadata": {
        "id": "1-lRIE-aI_4N",
        "colab_type": "code",
        "colab": {}
      },
      "source": [
        "def gzip_decompression(compressed_data):\n",
        "    return gzip.decompress(compressed_data)"
      ],
      "execution_count": 6,
      "outputs": []
    },
    {
      "cell_type": "code",
      "metadata": {
        "id": "VC8XcM6sI_4T",
        "colab_type": "code",
        "colab": {}
      },
      "source": [
        "def lzma_decompression(compressed_data):\n",
        "    return lzma.decompress(compressed_data)"
      ],
      "execution_count": 7,
      "outputs": []
    },
    {
      "cell_type": "code",
      "metadata": {
        "id": "k3QcrTYyI_4a",
        "colab_type": "code",
        "colab": {}
      },
      "source": [
        "def data_base64(data):\n",
        "    \n",
        "    string=binascii.b2a_base64(data)\n",
        "\n",
        "    return string"
      ],
      "execution_count": 8,
      "outputs": []
    },
    {
      "cell_type": "code",
      "metadata": {
        "id": "yoblKNjyI_4g",
        "colab_type": "code",
        "colab": {}
      },
      "source": [
        "def data_reconvert(reconvert):\n",
        "    return binascii.a2b_base64(reconvert)\n"
      ],
      "execution_count": 9,
      "outputs": []
    },
    {
      "cell_type": "code",
      "metadata": {
        "id": "ve8kwf3Eb5my",
        "colab_type": "code",
        "colab": {}
      },
      "source": [
        "# Creating tree nodes for Huffman Coding\n",
        "class NodeTree(object):\n",
        "\n",
        "    def __init__(self, left=None, right=None):\n",
        "        self.left = left\n",
        "        self.right = right\n",
        "\n",
        "    def children(self):\n",
        "        return (self.left, self.right)\n",
        "\n",
        "    def nodes(self):\n",
        "        return (self.left, self.right)\n",
        "\n",
        "    def __str__(self):\n",
        "        return '%s_%s' % (self.left, self.right)\n",
        "\n",
        "\n",
        "# Main function implementing huffman coding\n",
        "def huffman_code_tree(node, left=True, binString=''):\n",
        "    if type(node) is str:\n",
        "        return {node: binString}\n",
        "    (l, r) = node.children()\n",
        "    d = dict()\n",
        "    d.update(huffman_code_tree(l, True, binString + '0'))\n",
        "    d.update(huffman_code_tree(r, False, binString + '1'))\n",
        "    return d\n",
        "\n",
        "\n",
        "def Huffman_Compress(string, outGraph=False):\n",
        "  # Calculating frequency\n",
        "  freq = {}\n",
        "  for c in string:\n",
        "      if c in freq:\n",
        "          freq[c] += 1\n",
        "      else:\n",
        "          freq[c] = 1\n",
        "\n",
        "  freq = sorted(freq.items(), key=lambda x: x[1], reverse=True)\n",
        "\n",
        "  nodes = freq\n",
        "\n",
        "  while len(nodes) > 1:\n",
        "      (key1, c1) = nodes[-1]\n",
        "      (key2, c2) = nodes[-2]\n",
        "      nodes = nodes[:-2]\n",
        "      node = NodeTree(key1, key2)\n",
        "      nodes.append((node, c1 + c2))\n",
        "\n",
        "      nodes = sorted(nodes, key=lambda x: x[1], reverse=True)\n",
        "\n",
        "  huffmanCode = huffman_code_tree(nodes[0][0])\n",
        "  \n",
        "  if outGraph == True:\n",
        "    print(' Char | Huffman code ')\n",
        "    print('----------------------')\n",
        "    for (char, frequency) in freq:\n",
        "        print(' %-4r |%12s' % (char, huffmanCode[char]))\n",
        "  \n",
        "  return huffmanCode"
      ],
      "execution_count": 10,
      "outputs": []
    },
    {
      "cell_type": "code",
      "metadata": {
        "id": "srTqt8AIlasT",
        "colab_type": "code",
        "colab": {}
      },
      "source": [
        "def toBinary(String, GraphKeys):\n",
        "  Encoding = \"\"\n",
        "  Sense = 'Even'\n",
        "  for char in String:\n",
        "    Encoding += (str(GraphKeys[char]))\n",
        "\n",
        "  if len(Encoding)%2 != 0:\n",
        "    Encoding += str(0)\n",
        "    Sense = 'Odd'\n",
        "  return Encoding, Sense"
      ],
      "execution_count": 11,
      "outputs": []
    },
    {
      "cell_type": "code",
      "metadata": {
        "id": "8ulCBnZVnj0P",
        "colab_type": "code",
        "colab": {}
      },
      "source": [
        "def toDNA(From_Binary_Encoding):\n",
        "  DNA = ''\n",
        "  (Binary_Encoding, Sense) = From_Binary_Encoding\n",
        "  for char in range(0,len(Binary_Encoding),2):\n",
        "    if (Binary_Encoding[char]=='0' and Binary_Encoding[char+1]=='0'):\n",
        "      DNA += 'A'\n",
        "    elif (Binary_Encoding[char]=='0' and Binary_Encoding[char+1]=='1'):\n",
        "      DNA += 'T'\n",
        "    elif (Binary_Encoding[char]=='1' and Binary_Encoding[char+1]=='0'):\n",
        "      DNA += 'G'\n",
        "    elif (Binary_Encoding[char]=='1' and Binary_Encoding[char+1]=='1'):\n",
        "      DNA += 'C' \n",
        "\n",
        "  return DNA, Sense"
      ],
      "execution_count": 12,
      "outputs": []
    },
    {
      "cell_type": "code",
      "metadata": {
        "id": "EyPMC-ZtpKdI",
        "colab_type": "code",
        "colab": {
          "base_uri": "https://localhost:8080/",
          "height": 173
        },
        "outputId": "dd514558-89e2-4617-8662-ed93b8b77c75"
      },
      "source": [
        "!pip install cryptography\n",
        "from cryptography.fernet import Fernet\n",
        "\n",
        "def Encrypt(String):\n",
        "\n",
        "  key = Fernet.generate_key()\n",
        "  encryption_type = Fernet(key)\n",
        "  String = str(encryption_type.encrypt(bytes(String, encoding='utf8')))\n",
        "\n",
        "  return String\n",
        "\n",
        "def Decrypt(String):\n",
        "  String = encryption_type.decrypt(String)\n",
        "\n",
        "  return String"
      ],
      "execution_count": 13,
      "outputs": [
        {
          "output_type": "stream",
          "text": [
            "Collecting cryptography\n",
            "\u001b[?25l  Downloading https://files.pythonhosted.org/packages/ba/91/84a29d6a27fd6dfc21f475704c4d2053d58ed7a4033c2b0ce1b4ca4d03d9/cryptography-3.0-cp35-abi3-manylinux2010_x86_64.whl (2.7MB)\n",
            "\u001b[K     |████████████████████████████████| 2.7MB 2.7MB/s \n",
            "\u001b[?25hRequirement already satisfied: six>=1.4.1 in /usr/local/lib/python3.6/dist-packages (from cryptography) (1.15.0)\n",
            "Requirement already satisfied: cffi!=1.11.3,>=1.8 in /usr/local/lib/python3.6/dist-packages (from cryptography) (1.14.1)\n",
            "Requirement already satisfied: pycparser in /usr/local/lib/python3.6/dist-packages (from cffi!=1.11.3,>=1.8->cryptography) (2.20)\n",
            "Installing collected packages: cryptography\n",
            "Successfully installed cryptography-3.0\n"
          ],
          "name": "stdout"
        }
      ]
    },
    {
      "cell_type": "code",
      "metadata": {
        "id": "HBcxGjPR2xeE",
        "colab_type": "code",
        "colab": {}
      },
      "source": [
        "def Main_Compress(String, compressAlgo = 'bzip', encrypt = False, retainCase = False, outGraph = False):\n",
        "  if retainCase == False:\n",
        "    String = String.lower()\n",
        "\n",
        "  if compressAlgo == 'bzip':\n",
        "    String = bytes(String, 'utf-8')\n",
        "    data_compress = data_base64(bzip_compression(String))\n",
        "    String = str(data_compress, 'utf-8')\n",
        "  elif compressAlgo == 'gzip':\n",
        "    String = bytes(String, 'utf-8')\n",
        "    data_compress = data_base64(gzip_compression(String))\n",
        "    String = str(data_compress, 'utf-8')\n",
        "  elif compressAlgo == 'lzma':\n",
        "    String = bytes(String, 'utf-8')\n",
        "    data_compress = data_base64(lzma_compression(String))\n",
        "    String = str(data_compress, 'utf-8')\n",
        "  elif compressAlgo == 'None':\n",
        "    String = String            \n",
        "\n",
        "  if encrypt == True:\n",
        "    String = Encrypt(String)\n",
        "  \n",
        "  return(toDNA(toBinary(String, Huffman_Compress(String, outGraph))))"
      ],
      "execution_count": 14,
      "outputs": []
    },
    {
      "cell_type": "code",
      "metadata": {
        "id": "gUphbedJplJ-",
        "colab_type": "code",
        "colab": {
          "base_uri": "https://localhost:8080/",
          "height": 51
        },
        "outputId": "1e103d5a-1034-4b51-b999-e7391e72b34f"
      },
      "source": [
        "Test_String = \"\"\"Lorem ipsum dolor sit amet, consectetur adipiscing elit. Morbi maximus nisi in nunc commodo, id malesuada odio vulputate. Vestibulum ante ipsum primis in faucibus orci luctus et ultrices posuere cubilia curae; Nam dapibus ac risus eu rutrum. Proin pretium eget nisl eu mattis. Nullam et tincidunt lorem, vitae vestibulum est. Nam luctus arcu a vehicula finibus. Sed cursus, est ut facilisis maximus, dolor augue dictum ipsum, quis fringilla nibh nibh a nisi. Curabitur lobortis elementum facilisis. Aliquam erat volutpat. Sed ultricies turpis sit amet dui mattis, ac aliquet purus efficitur. Nunc mi diam, interdum eu augue ut, tempus rhoncus ex. Etiam magna sapien, imperdiet et sem in, congue imperdiet mi. Sed venenatis magna purus, a faucibus neque tincidunt sed. Integer vel eleifend tellus. Lorem ipsum dolor sit amet, consectetur adipiscing elit. In hac habitasse platea dictumst. Quisque consectetur lorem vitae commodo consectetur. Mauris augue sem, convallis non ante sed, facilisis molestie nisi. Duis tempor sodales dignissim. Morbi aliquet orci non venenatis gravida. Ut eleifend eu purus eu euismod. Suspendisse interdum est eu dolor vulputate, eget rhoncus lacus placerat. Maecenas quis nulla vel tellus consequat pretium. Curabitur nibh nulla, aliquam at volutpat vitae, pretium at metus. Nunc elementum in neque eget rutrum. Etiam sit amet luctus magna. Proin pulvinar commodo libero, sed ultrices mauris mattis a. Vivamus tempus, libero non pretium laoreet, velit metus porta sapien, ac fermentum velit sapien et turpis. Sed tincidunt lacus sed magna porttitor tempor. Vestibulum in nibh at mauris tristique maximus. Ut commodo erat eu consequat luctus. Vivamus ligula libero, porttitor pharetra justo ut, sagittis luctus ante. Nulla rhoncus dictum vulputate. Cras euismod quam nec eros dapibus mollis. Nulla fermentum, nunc aliquam sollicitudin scelerisque, nulla justo elementum arcu, tempus tristique ante odio id magna. Curabitur consequat, quam eu ultrices molestie, sapien turpis viverra erat, vitae dapibus ipsum dui id enim. Sed id mauris magna. In interdum eu quam eget bibendum. Fusce sit amet urna ut mauris rutrum molestie ac in dui. Curabitur quis felis tortor. Suspendisse consectetur at diam sit amet pulvinar. Nunc eu elit eu dui euismod placerat. Fusce sodales tempor quam ac convallis. Proin sed ex libero. Donec mollis urna nec ipsum cursus, lobortis egestas risus eleifend. Integer viverra mollis nisi, vitae mollis diam pellentesque quis. Aenean sem quam, pellentesque sit amet porta nec, posuere et nunc. Duis tempor imperdiet massa, sit amet eleifend eros. Sed vulputate lectus non condimentum dapibus. Fusce scelerisque, odio sit amet eleifend varius, justo nisl mollis ipsum, id eleifend lectus justo a arcu. Aenean feugiat ex vitae libero sodales eleifend. Vestibulum nec ante sapien. Fusce eu ex tempus, imperdiet tortor nec, rhoncus dolor. Proin blandit consectetur dui et laoreet. Sed fermentum lectus sit amet facilisis ultricies. Aenean faucibus ex at tellus dignissim, ut bibendum elit pharetra. Vestibulum sit amet leo vitae risus iaculis consequat ac nec erat. Praesent ac sollicitudin lectus. Ut a fermentum nisl. Nunc in felis at tellus viverra convallis ac in dui. Pellentesque gravida, eros sed hendrerit auctor, libero urna sagittis eros, vitae imperdiet enim ex. Lorem ipsum dolor sit amet, consectetur adipiscing elit. Morbi maximus nisi in nunc commodo, id malesuada odio vulputate. Vestibulum ante ipsum primis in faucibus orci luctus et ultrices posuere cubilia curae; Nam dapibus ac risus eu rutrum. Proin pretium eget nisl eu mattis. Nullam et tincidunt lorem, vitae vestibulum est. Nam luctus arcu a vehicula finibus. Sed cursus, est ut facilisis maximus, dolor augue dictum ipsum, quis fringilla nibh nibh a nisi. Curabitur lobortis elementum facilisis. Aliquam erat volutpat. Sed ultricies turpis sit amet dui mattis, ac aliquet purus efficitur. Nunc mi diam, interdum eu augue ut, tempus rhoncus ex. Etiam magna sapien, imperdiet et sem in, congue imperdiet mi. Sed venenatis magna purus, a faucibus neque tincidunt sed. Integer vel eleifend tellus. Lorem ipsum dolor sit amet, consectetur adipiscing elit. In hac habitasse platea dictumst. Quisque consectetur lorem vitae commodo consectetur. Mauris augue sem, convallis non ante sed, facilisis molestie nisi. Duis tempor sodales dignissim. Morbi aliquet orci non venenatis gravida. Ut eleifend eu purus eu euismod. Suspendisse interdum est eu dolor vulputate, eget rhoncus lacus placerat. Maecenas quis nulla vel tellus consequat pretium. Curabitur nibh nulla, aliquam at volutpat vitae, pretium at metus. Nunc elementum in neque eget rutrum. Etiam sit amet luctus magna. Proin pulvinar commodo libero, sed ultrices mauris mattis a. Vivamus tempus, libero non pretium laoreet, velit metus porta sapien, ac fermentum velit sapien et turpis. Sed tincidunt lacus sed magna porttitor tempor. Vestibulum in nibh at mauris tristique maximus. Ut commodo erat eu consequat luctus. Vivamus ligula libero, porttitor pharetra justo ut, sagittis luctus ante. Nulla rhoncus dictum vulputate. Cras euismod quam nec eros dapibus mollis. Nulla fermentum, nunc aliquam sollicitudin scelerisque, nulla justo elementum arcu, tempus tristique ante odio id magna. Curabitur consequat, quam eu ultrices molestie, sapien turpis viverra erat, vitae dapibus ipsum dui id enim. Sed id mauris magna. In interdum eu quam eget bibendum. Fusce sit amet urna ut mauris rutrum molestie ac in dui. Curabitur quis felis tortor. Suspendisse consectetur at diam sit amet pulvinar. Nunc eu elit eu dui euismod placerat. Fusce sodales tempor quam ac convallis. Proin sed ex libero. Donec mollis urna nec ipsum cursus, lobortis egestas risus eleifend. Integer viverra mollis nisi, vitae mollis diam pellentesque quis. Aenean sem quam, pellentesque sit amet porta nec, posuere et nunc. Duis tempor imperdiet massa, sit amet eleifend eros. Sed vulputate lectus non condimentum dapibus. Fusce scelerisque, odio sit amet eleifend varius, justo nisl mollis ipsum, id eleifend lectus justo a arcu. Aenean feugiat ex vitae libero sodales eleifend. Vestibulum nec ante sapien. Fusce eu ex tempus, imperdiet tortor nec, rhoncus dolor. Proin blandit consectetur dui et laoreet. Sed fermentum lectus sit amet facilisis ultricies. Aenean faucibus ex at tellus dignissim, ut bibendum elit pharetra. Vestibulum sit amet leo vitae risus iaculis consequat ac nec erat. Praesent ac sollicitudin lectus. Ut a fermentum nisl. Nunc in felis at tellus viverra convallis ac in dui. Pellentesque gravida, eros sed hendrerit auctor, libero urna sagittis eros, vitae imperdiet enim ex.\"\"\"\n",
        "file=open(\"/bible.txt\", \"r\")\n",
        "file_list=[\"/alice29.txt\",\"/E.coli\",\"/asyoulik.txt\",\"/bible.txt\",\"/lcet10.txt\",\"/plrabn12.txt\",\"/world192.txt\"]\n",
        "Test_String=file.read()\n",
        "z=Main_Compress(Test_String)\n",
        "res = ''.join(format(ord(i), 'b') for i in Test_String)\n",
        "len_res = len(str(res))/2 \n",
        "(DNA_Codes, Sense) = Main_Compress(Test_String)\n",
        "l = len_res/len(DNA_Codes)\n",
        "print(l)"
      ],
      "execution_count": 31,
      "outputs": [
        {
          "output_type": "stream",
          "text": [
            "4.0425067874239415\n",
            "4.0425067874239415\n"
          ],
          "name": "stdout"
        }
      ]
    },
    {
      "cell_type": "code",
      "metadata": {
        "id": "Uvb94ARkOlSX",
        "colab_type": "code",
        "colab": {
          "base_uri": "https://localhost:8080/",
          "height": 289
        },
        "outputId": "d83db5fd-699b-4bb3-b7e9-1dc61da10f67"
      },
      "source": [
        "res = ''.join(format(ord(i), 'b') for i in Test_String)\n",
        "len_res = len(str(res))/2 \n",
        "for x in ['bzip','gzip','lzma','None']:\n",
        "  for y in [True, False]:\n",
        "    for z in [True, False]:\n",
        "      file=open(\"/bible.txt\",\"r\")\n",
        "      Test_String=file.read()\n",
        "      (DNA_Codes, Sense) = Main_Compress(Test_String, x, y, z)\n",
        "      l = len_res/len(DNA_Codes)\n",
        "      print(\"Compress Algo: {} Encryption: {:5s} CaseRetain: {:5s} :: Compress Ratio = {:1.3f}\".format(x,str(y),str(z),l))"
      ],
      "execution_count": 32,
      "outputs": [
        {
          "output_type": "stream",
          "text": [
            "Compress Algo: bzip Encryption: True  CaseRetain: True  :: Compress Ratio = 3.024\n",
            "Compress Algo: bzip Encryption: True  CaseRetain: False :: Compress Ratio = 3.030\n",
            "Compress Algo: bzip Encryption: False CaseRetain: True  :: Compress Ratio = 4.034\n",
            "Compress Algo: bzip Encryption: False CaseRetain: False :: Compress Ratio = 4.043\n",
            "Compress Algo: gzip Encryption: True  CaseRetain: True  :: Compress Ratio = 2.172\n",
            "Compress Algo: gzip Encryption: True  CaseRetain: False :: Compress Ratio = 2.207\n",
            "Compress Algo: gzip Encryption: False CaseRetain: True  :: Compress Ratio = 2.897\n",
            "Compress Algo: gzip Encryption: False CaseRetain: False :: Compress Ratio = 2.942\n",
            "Compress Algo: lzma Encryption: True  CaseRetain: True  :: Compress Ratio = 2.889\n",
            "Compress Algo: lzma Encryption: True  CaseRetain: False :: Compress Ratio = 2.923\n",
            "Compress Algo: lzma Encryption: False CaseRetain: True  :: Compress Ratio = 3.853\n",
            "Compress Algo: lzma Encryption: False CaseRetain: False :: Compress Ratio = 3.897\n",
            "Compress Algo: None Encryption: True  CaseRetain: True  :: Compress Ratio = 0.843\n",
            "Compress Algo: None Encryption: True  CaseRetain: False :: Compress Ratio = 0.843\n",
            "Compress Algo: None Encryption: False CaseRetain: True  :: Compress Ratio = 1.541\n",
            "Compress Algo: None Encryption: False CaseRetain: False :: Compress Ratio = 1.598\n"
          ],
          "name": "stdout"
        }
      ]
    },
    {
      "cell_type": "code",
      "metadata": {
        "id": "Q3FCq1xqzwkO",
        "colab_type": "code",
        "colab": {
          "base_uri": "https://localhost:8080/",
          "height": 289
        },
        "outputId": "1f7bdd33-fce3-4efc-98c8-a9910de88e75"
      },
      "source": [
        "res = ''.join(format(ord(i), 'b') for i in Test_String)\n",
        "len_res = len(str(res))/2 \n",
        "for x in ['bzip','gzip','lzma','None']:\n",
        "  for y in [True, False]:\n",
        "    for z in [True, False]:\n",
        "      file=open(\"/alice29.txt\",\"r\")\n",
        "      Test_String=file.read()\n",
        "      (DNA_Codes, Sense) = Main_Compress(Test_String, x, y, z)\n",
        "      l = len_res/len(DNA_Codes)\n",
        "      print(\"Compress Algo: {} Encryption: {:5s} CaseRetain: {:5s} :: Compress Ratio = {:1.3f}\".format(x,str(y),str(z),l))"
      ],
      "execution_count": 35,
      "outputs": [
        {
          "output_type": "stream",
          "text": [
            "Compress Algo: bzip Encryption: True  CaseRetain: True  :: Compress Ratio = 2.150\n",
            "Compress Algo: bzip Encryption: True  CaseRetain: False :: Compress Ratio = 2.216\n",
            "Compress Algo: bzip Encryption: False CaseRetain: True  :: Compress Ratio = 2.872\n",
            "Compress Algo: bzip Encryption: False CaseRetain: False :: Compress Ratio = 2.961\n",
            "Compress Algo: gzip Encryption: True  CaseRetain: True  :: Compress Ratio = 1.736\n",
            "Compress Algo: gzip Encryption: True  CaseRetain: False :: Compress Ratio = 1.793\n",
            "Compress Algo: gzip Encryption: False CaseRetain: True  :: Compress Ratio = 2.317\n",
            "Compress Algo: gzip Encryption: False CaseRetain: False :: Compress Ratio = 2.393\n",
            "Compress Algo: lzma Encryption: True  CaseRetain: True  :: Compress Ratio = 1.937\n",
            "Compress Algo: lzma Encryption: True  CaseRetain: False :: Compress Ratio = 1.996\n",
            "Compress Algo: lzma Encryption: False CaseRetain: True  :: Compress Ratio = 2.585\n",
            "Compress Algo: lzma Encryption: False CaseRetain: False :: Compress Ratio = 2.664\n",
            "Compress Algo: None Encryption: True  CaseRetain: True  :: Compress Ratio = 0.833\n",
            "Compress Algo: None Encryption: True  CaseRetain: False :: Compress Ratio = 0.833\n",
            "Compress Algo: None Encryption: False CaseRetain: True  :: Compress Ratio = 1.467\n",
            "Compress Algo: None Encryption: False CaseRetain: False :: Compress Ratio = 1.526\n"
          ],
          "name": "stdout"
        }
      ]
    },
    {
      "cell_type": "code",
      "metadata": {
        "id": "hUjNY5WxvYLX",
        "colab_type": "code",
        "colab": {
          "base_uri": "https://localhost:8080/",
          "height": 289
        },
        "outputId": "9bfd3517-113c-4b3e-bd70-9230445c2f15"
      },
      "source": [
        "res = ''.join(format(ord(i), 'b') for i in Test_String)\n",
        "len_res = len(str(res))/2 \n",
        "for x in ['bzip','gzip','lzma','None']:\n",
        "  for y in [True, False]:\n",
        "    for z in [True, False]:\n",
        "      file=open(\"/E.coli\",\"r\")\n",
        "      Test_String=file.read()\n",
        "      (DNA_Codes, Sense) = Main_Compress(Test_String, x, y, z)\n",
        "      l = len_res/len(DNA_Codes)\n",
        "      print(\"Compress Algo: {} Encryption: {:5s} CaseRetain: {:5s} :: Compress Ratio = {:1.3f}\".format(x,str(y),str(z),l))"
      ],
      "execution_count": 37,
      "outputs": [
        {
          "output_type": "stream",
          "text": [
            "Compress Algo: bzip Encryption: True  CaseRetain: True  :: Compress Ratio = 2.427\n",
            "Compress Algo: bzip Encryption: True  CaseRetain: False :: Compress Ratio = 2.427\n",
            "Compress Algo: bzip Encryption: False CaseRetain: True  :: Compress Ratio = 3.257\n",
            "Compress Algo: bzip Encryption: False CaseRetain: False :: Compress Ratio = 3.257\n",
            "Compress Algo: gzip Encryption: True  CaseRetain: True  :: Compress Ratio = 2.336\n",
            "Compress Algo: gzip Encryption: True  CaseRetain: False :: Compress Ratio = 2.336\n",
            "Compress Algo: gzip Encryption: False CaseRetain: True  :: Compress Ratio = 3.116\n",
            "Compress Algo: gzip Encryption: False CaseRetain: False :: Compress Ratio = 3.116\n",
            "Compress Algo: lzma Encryption: True  CaseRetain: True  :: Compress Ratio = 2.559\n",
            "Compress Algo: lzma Encryption: True  CaseRetain: False :: Compress Ratio = 2.559\n",
            "Compress Algo: lzma Encryption: False CaseRetain: True  :: Compress Ratio = 3.412\n",
            "Compress Algo: lzma Encryption: False CaseRetain: False :: Compress Ratio = 3.412\n",
            "Compress Algo: None Encryption: True  CaseRetain: True  :: Compress Ratio = 0.873\n",
            "Compress Algo: None Encryption: True  CaseRetain: False :: Compress Ratio = 0.873\n",
            "Compress Algo: None Encryption: False CaseRetain: True  :: Compress Ratio = 3.500\n",
            "Compress Algo: None Encryption: False CaseRetain: False :: Compress Ratio = 3.500\n"
          ],
          "name": "stdout"
        }
      ]
    },
    {
      "cell_type": "code",
      "metadata": {
        "id": "v3ZfdCxP0X9k",
        "colab_type": "code",
        "colab": {
          "base_uri": "https://localhost:8080/",
          "height": 289
        },
        "outputId": "0c643c5e-b327-49b7-a480-232d27dff304"
      },
      "source": [
        "res = ''.join(format(ord(i), 'b') for i in Test_String)\n",
        "len_res = len(str(res))/2 \n",
        "for x in ['bzip','gzip','lzma','None']:\n",
        "  for y in [True, False]:\n",
        "    for z in [True, False]:\n",
        "      file=open(\"/asyoulik.txt\",\"r\")\n",
        "      Test_String=file.read()\n",
        "      (DNA_Codes, Sense) = Main_Compress(Test_String, x, y, z)\n",
        "      l = len_res/len(DNA_Codes)\n",
        "      print(\"Compress Algo: {} Encryption: {:5s} CaseRetain: {:5s} :: Compress Ratio = {:1.3f}\".format(x,str(y),str(z),l))"
      ],
      "execution_count": 39,
      "outputs": [
        {
          "output_type": "stream",
          "text": [
            "Compress Algo: bzip Encryption: True  CaseRetain: True  :: Compress Ratio = 1.962\n",
            "Compress Algo: bzip Encryption: True  CaseRetain: False :: Compress Ratio = 1.991\n",
            "Compress Algo: bzip Encryption: False CaseRetain: True  :: Compress Ratio = 2.620\n",
            "Compress Algo: bzip Encryption: False CaseRetain: False :: Compress Ratio = 2.659\n",
            "Compress Algo: gzip Encryption: True  CaseRetain: True  :: Compress Ratio = 1.591\n",
            "Compress Algo: gzip Encryption: True  CaseRetain: False :: Compress Ratio = 1.639\n",
            "Compress Algo: gzip Encryption: False CaseRetain: True  :: Compress Ratio = 2.124\n",
            "Compress Algo: gzip Encryption: False CaseRetain: False :: Compress Ratio = 2.188\n",
            "Compress Algo: lzma Encryption: True  CaseRetain: True  :: Compress Ratio = 1.743\n",
            "Compress Algo: lzma Encryption: True  CaseRetain: False :: Compress Ratio = 1.785\n",
            "Compress Algo: lzma Encryption: False CaseRetain: True  :: Compress Ratio = 2.327\n",
            "Compress Algo: lzma Encryption: False CaseRetain: False :: Compress Ratio = 2.384\n",
            "Compress Algo: None Encryption: True  CaseRetain: True  :: Compress Ratio = 0.827\n",
            "Compress Algo: None Encryption: True  CaseRetain: False :: Compress Ratio = 0.827\n",
            "Compress Algo: None Encryption: False CaseRetain: True  :: Compress Ratio = 1.370\n",
            "Compress Algo: None Encryption: False CaseRetain: False :: Compress Ratio = 1.484\n"
          ],
          "name": "stdout"
        }
      ]
    },
    {
      "cell_type": "code",
      "metadata": {
        "id": "gOBbMwVi0TGp",
        "colab_type": "code",
        "colab": {
          "base_uri": "https://localhost:8080/",
          "height": 289
        },
        "outputId": "66926b0a-7748-4973-ff24-b8233353e2c5"
      },
      "source": [
        "res = ''.join(format(ord(i), 'b') for i in Test_String)\n",
        "len_res = len(str(res))/2 \n",
        "for x in ['bzip','gzip','lzma','None']:\n",
        "  for y in [True, False]:\n",
        "    for z in [True, False]:\n",
        "      file=open(\"/lcet10.txt\",\"r\")\n",
        "      Test_String=file.read()\n",
        "      (DNA_Codes, Sense) = Main_Compress(Test_String, x, y, z)\n",
        "      l = len_res/len(DNA_Codes)\n",
        "      print(\"Compress Algo: {} Encryption: {:5s} CaseRetain: {:5s} :: Compress Ratio = {:1.3f}\".format(x,str(y),str(z),l))"
      ],
      "execution_count": 42,
      "outputs": [
        {
          "output_type": "stream",
          "text": [
            "Compress Algo: bzip Encryption: True  CaseRetain: True  :: Compress Ratio = 2.452\n",
            "Compress Algo: bzip Encryption: True  CaseRetain: False :: Compress Ratio = 2.517\n",
            "Compress Algo: bzip Encryption: False CaseRetain: True  :: Compress Ratio = 3.272\n",
            "Compress Algo: bzip Encryption: False CaseRetain: False :: Compress Ratio = 3.358\n",
            "Compress Algo: gzip Encryption: True  CaseRetain: True  :: Compress Ratio = 1.851\n",
            "Compress Algo: gzip Encryption: True  CaseRetain: False :: Compress Ratio = 1.910\n",
            "Compress Algo: gzip Encryption: False CaseRetain: True  :: Compress Ratio = 2.470\n",
            "Compress Algo: gzip Encryption: False CaseRetain: False :: Compress Ratio = 2.548\n",
            "Compress Algo: lzma Encryption: True  CaseRetain: True  :: Compress Ratio = 2.236\n",
            "Compress Algo: lzma Encryption: True  CaseRetain: False :: Compress Ratio = 2.294\n",
            "Compress Algo: lzma Encryption: False CaseRetain: True  :: Compress Ratio = 2.983\n",
            "Compress Algo: lzma Encryption: False CaseRetain: False :: Compress Ratio = 3.060\n",
            "Compress Algo: None Encryption: True  CaseRetain: True  :: Compress Ratio = 0.840\n",
            "Compress Algo: None Encryption: True  CaseRetain: False :: Compress Ratio = 0.840\n",
            "Compress Algo: None Encryption: False CaseRetain: True  :: Compress Ratio = 1.447\n",
            "Compress Algo: None Encryption: False CaseRetain: False :: Compress Ratio = 1.518\n"
          ],
          "name": "stdout"
        }
      ]
    },
    {
      "cell_type": "code",
      "metadata": {
        "id": "KUFE8do71Af9",
        "colab_type": "code",
        "colab": {
          "base_uri": "https://localhost:8080/",
          "height": 289
        },
        "outputId": "15d976a5-8b11-45cd-afd7-b6f1b7a6f314"
      },
      "source": [
        "res = ''.join(format(ord(i), 'b') for i in Test_String)\n",
        "len_res = len(str(res))/2 \n",
        "for x in ['bzip','gzip','lzma','None']:\n",
        "  for y in [True, False]:\n",
        "    for z in [True, False]:\n",
        "      file=open(\"/plrabn12.txt\",\"r\")\n",
        "      Test_String=file.read()\n",
        "      (DNA_Codes, Sense) = Main_Compress(Test_String, x, y, z)\n",
        "      l = len_res/len(DNA_Codes)\n",
        "      print(\"Compress Algo: {} Encryption: {:5s} CaseRetain: {:5s} :: Compress Ratio = {:1.3f}\".format(x,str(y),str(z),l))"
      ],
      "execution_count": 44,
      "outputs": [
        {
          "output_type": "stream",
          "text": [
            "Compress Algo: bzip Encryption: True  CaseRetain: True  :: Compress Ratio = 2.035\n",
            "Compress Algo: bzip Encryption: True  CaseRetain: False :: Compress Ratio = 2.069\n",
            "Compress Algo: bzip Encryption: False CaseRetain: True  :: Compress Ratio = 2.715\n",
            "Compress Algo: bzip Encryption: False CaseRetain: False :: Compress Ratio = 2.761\n",
            "Compress Algo: gzip Encryption: True  CaseRetain: True  :: Compress Ratio = 1.533\n",
            "Compress Algo: gzip Encryption: True  CaseRetain: False :: Compress Ratio = 1.578\n",
            "Compress Algo: gzip Encryption: False CaseRetain: True  :: Compress Ratio = 2.045\n",
            "Compress Algo: gzip Encryption: False CaseRetain: False :: Compress Ratio = 2.104\n",
            "Compress Algo: lzma Encryption: True  CaseRetain: True  :: Compress Ratio = 1.797\n",
            "Compress Algo: lzma Encryption: True  CaseRetain: False :: Compress Ratio = 1.840\n",
            "Compress Algo: lzma Encryption: False CaseRetain: True  :: Compress Ratio = 2.396\n",
            "Compress Algo: lzma Encryption: False CaseRetain: False :: Compress Ratio = 2.454\n",
            "Compress Algo: None Encryption: True  CaseRetain: True  :: Compress Ratio = 0.838\n",
            "Compress Algo: None Encryption: True  CaseRetain: False :: Compress Ratio = 0.838\n",
            "Compress Algo: None Encryption: False CaseRetain: True  :: Compress Ratio = 1.487\n",
            "Compress Algo: None Encryption: False CaseRetain: False :: Compress Ratio = 1.552\n"
          ],
          "name": "stdout"
        }
      ]
    },
    {
      "cell_type": "code",
      "metadata": {
        "id": "4yNLtIMy1X0G",
        "colab_type": "code",
        "colab": {
          "base_uri": "https://localhost:8080/",
          "height": 289
        },
        "outputId": "596d5588-a0ce-49c9-8bfd-666b5f22c835"
      },
      "source": [
        "res = ''.join(format(ord(i), 'b') for i in Test_String)\n",
        "len_res = len(str(res))/2 \n",
        "for x in ['bzip','gzip','lzma','None']:\n",
        "  for y in [True, False]:\n",
        "    for z in [True, False]:\n",
        "      file=open(\"/world192.txt\",\"r\")\n",
        "      Test_String=file.read()\n",
        "      (DNA_Codes, Sense) = Main_Compress(Test_String, x, y, z)\n",
        "      l = len_res/len(DNA_Codes)\n",
        "      print(\"Compress Algo: {} Encryption: {:5s} CaseRetain: {:5s} :: Compress Ratio = {:1.3f}\".format(x,str(y),str(z),l))"
      ],
      "execution_count": 46,
      "outputs": [
        {
          "output_type": "stream",
          "text": [
            "Compress Algo: bzip Encryption: True  CaseRetain: True  :: Compress Ratio = 3.047\n",
            "Compress Algo: bzip Encryption: True  CaseRetain: False :: Compress Ratio = 3.069\n",
            "Compress Algo: bzip Encryption: False CaseRetain: True  :: Compress Ratio = 4.065\n",
            "Compress Algo: bzip Encryption: False CaseRetain: False :: Compress Ratio = 4.093\n",
            "Compress Algo: gzip Encryption: True  CaseRetain: True  :: Compress Ratio = 2.082\n",
            "Compress Algo: gzip Encryption: True  CaseRetain: False :: Compress Ratio = 2.156\n",
            "Compress Algo: gzip Encryption: False CaseRetain: True  :: Compress Ratio = 2.777\n",
            "Compress Algo: gzip Encryption: False CaseRetain: False :: Compress Ratio = 2.874\n",
            "Compress Algo: lzma Encryption: True  CaseRetain: True  :: Compress Ratio = 3.076\n",
            "Compress Algo: lzma Encryption: True  CaseRetain: False :: Compress Ratio = 3.134\n",
            "Compress Algo: lzma Encryption: False CaseRetain: True  :: Compress Ratio = 4.102\n",
            "Compress Algo: lzma Encryption: False CaseRetain: False :: Compress Ratio = 4.179\n",
            "Compress Algo: None Encryption: True  CaseRetain: True  :: Compress Ratio = 0.826\n",
            "Compress Algo: None Encryption: True  CaseRetain: False :: Compress Ratio = 0.826\n",
            "Compress Algo: None Encryption: False CaseRetain: True  :: Compress Ratio = 1.325\n",
            "Compress Algo: None Encryption: False CaseRetain: False :: Compress Ratio = 1.412\n"
          ],
          "name": "stdout"
        }
      ]
    },
    {
      "cell_type": "code",
      "metadata": {
        "id": "oNta1gxv1V9l",
        "colab_type": "code",
        "colab": {
          "base_uri": "https://localhost:8080/",
          "height": 289
        },
        "outputId": "5e0773ac-fb13-4e90-e0aa-304bf022a2f7"
      },
      "source": [
        "res = ''.join(format(ord(i), 'b') for i in Test_String)\n",
        "len_res = len(str(res))/2 \n",
        "for x in ['bzip','gzip','lzma','None']:\n",
        "  for y in [True, False]:\n",
        "    for z in [True, False]:\n",
        "      file=open(\"/fields.c\",\"r\")\n",
        "      Test_String=file.read()\n",
        "      (DNA_Codes, Sense) = Main_Compress(Test_String, x, y, z)\n",
        "      l = len_res/len(DNA_Codes)\n",
        "      print(\"Compress Algo: {} Encryption: {:5s} CaseRetain: {:5s} :: Compress Ratio = {:1.3f}\".format(x,str(y),str(z),l))"
      ],
      "execution_count": 53,
      "outputs": [
        {
          "output_type": "stream",
          "text": [
            "Compress Algo: bzip Encryption: True  CaseRetain: True  :: Compress Ratio = 2.145\n",
            "Compress Algo: bzip Encryption: True  CaseRetain: False :: Compress Ratio = 2.242\n",
            "Compress Algo: bzip Encryption: False CaseRetain: True  :: Compress Ratio = 2.918\n",
            "Compress Algo: bzip Encryption: False CaseRetain: False :: Compress Ratio = 3.041\n",
            "Compress Algo: gzip Encryption: True  CaseRetain: True  :: Compress Ratio = 2.089\n",
            "Compress Algo: gzip Encryption: True  CaseRetain: False :: Compress Ratio = 2.163\n",
            "Compress Algo: gzip Encryption: False CaseRetain: True  :: Compress Ratio = 2.827\n",
            "Compress Algo: gzip Encryption: False CaseRetain: False :: Compress Ratio = 2.931\n",
            "Compress Algo: lzma Encryption: True  CaseRetain: True  :: Compress Ratio = 2.152\n",
            "Compress Algo: lzma Encryption: True  CaseRetain: False :: Compress Ratio = 2.204\n",
            "Compress Algo: lzma Encryption: False CaseRetain: True  :: Compress Ratio = 2.919\n",
            "Compress Algo: lzma Encryption: False CaseRetain: False :: Compress Ratio = 2.997\n",
            "Compress Algo: None Encryption: True  CaseRetain: True  :: Compress Ratio = 0.789\n",
            "Compress Algo: None Encryption: True  CaseRetain: False :: Compress Ratio = 0.789\n",
            "Compress Algo: None Encryption: False CaseRetain: True  :: Compress Ratio = 1.262\n",
            "Compress Algo: None Encryption: False CaseRetain: False :: Compress Ratio = 1.320\n"
          ],
          "name": "stdout"
        }
      ]
    },
    {
      "cell_type": "code",
      "metadata": {
        "id": "NFW1uwm22OXi",
        "colab_type": "code",
        "colab": {
          "base_uri": "https://localhost:8080/",
          "height": 289
        },
        "outputId": "bb359d43-c66a-4ef3-d299-6d5d0e6df3e7"
      },
      "source": [
        "res = ''.join(format(ord(i), 'b') for i in Test_String)\n",
        "len_res = len(str(res))/2 \n",
        "for x in ['bzip','gzip','lzma','None']:\n",
        "  for y in [True, False]:\n",
        "    for z in [True, False]:\n",
        "      file=open(\"/grammar.lsp\",\"r\")\n",
        "      Test_String=file.read()\n",
        "      (DNA_Codes, Sense) = Main_Compress(Test_String, x, y, z)\n",
        "      l = len_res/len(DNA_Codes)\n",
        "      print(\"Compress Algo: {} Encryption: {:5s} CaseRetain: {:5s} :: Compress Ratio = {:1.3f}\".format(x,str(y),str(z),l))"
      ],
      "execution_count": 56,
      "outputs": [
        {
          "output_type": "stream",
          "text": [
            "Compress Algo: bzip Encryption: True  CaseRetain: True  :: Compress Ratio = 1.688\n",
            "Compress Algo: bzip Encryption: True  CaseRetain: False :: Compress Ratio = 1.764\n",
            "Compress Algo: bzip Encryption: False CaseRetain: True  :: Compress Ratio = 2.359\n",
            "Compress Algo: bzip Encryption: False CaseRetain: False :: Compress Ratio = 2.460\n",
            "Compress Algo: gzip Encryption: True  CaseRetain: True  :: Compress Ratio = 1.748\n",
            "Compress Algo: gzip Encryption: True  CaseRetain: False :: Compress Ratio = 1.815\n",
            "Compress Algo: gzip Encryption: False CaseRetain: True  :: Compress Ratio = 2.439\n",
            "Compress Algo: gzip Encryption: False CaseRetain: False :: Compress Ratio = 2.526\n",
            "Compress Algo: lzma Encryption: True  CaseRetain: True  :: Compress Ratio = 1.686\n",
            "Compress Algo: lzma Encryption: True  CaseRetain: False :: Compress Ratio = 1.715\n",
            "Compress Algo: lzma Encryption: False CaseRetain: True  :: Compress Ratio = 2.334\n",
            "Compress Algo: lzma Encryption: False CaseRetain: False :: Compress Ratio = 2.397\n",
            "Compress Algo: None Encryption: True  CaseRetain: True  :: Compress Ratio = 0.796\n",
            "Compress Algo: None Encryption: True  CaseRetain: False :: Compress Ratio = 0.796\n",
            "Compress Algo: None Encryption: False CaseRetain: True  :: Compress Ratio = 1.392\n",
            "Compress Algo: None Encryption: False CaseRetain: False :: Compress Ratio = 1.438\n"
          ],
          "name": "stdout"
        }
      ]
    },
    {
      "cell_type": "code",
      "metadata": {
        "id": "IPF5XkOM3kHd",
        "colab_type": "code",
        "colab": {
          "base_uri": "https://localhost:8080/",
          "height": 289
        },
        "outputId": "e66efa0a-f74f-4666-dd64-cb0d7b9d191d"
      },
      "source": [
        "res = ''.join(format(ord(i), 'b') for i in Test_String)\n",
        "len_res = len(str(res))/2 \n",
        "for x in ['bzip','gzip','lzma','None']:\n",
        "  for y in [True, False]:\n",
        "    for z in [True, False]:\n",
        "      file=open(\"/xargs.1\",\"r\")\n",
        "      Test_String=file.read()\n",
        "      (DNA_Codes, Sense) = Main_Compress(Test_String, x, y, z)\n",
        "      l = len_res/len(DNA_Codes)\n",
        "      print(\"Compress Algo: {} Encryption: {:5s} CaseRetain: {:5s} :: Compress Ratio = {:1.3f}\".format(x,str(y),str(z),l))"
      ],
      "execution_count": 62,
      "outputs": [
        {
          "output_type": "stream",
          "text": [
            "Compress Algo: bzip Encryption: True  CaseRetain: True  :: Compress Ratio = 1.455\n",
            "Compress Algo: bzip Encryption: True  CaseRetain: False :: Compress Ratio = 1.527\n",
            "Compress Algo: bzip Encryption: False CaseRetain: True  :: Compress Ratio = 2.008\n",
            "Compress Algo: bzip Encryption: False CaseRetain: False :: Compress Ratio = 2.110\n",
            "Compress Algo: gzip Encryption: True  CaseRetain: True  :: Compress Ratio = 1.475\n",
            "Compress Algo: gzip Encryption: True  CaseRetain: False :: Compress Ratio = 1.527\n",
            "Compress Algo: gzip Encryption: False CaseRetain: True  :: Compress Ratio = 2.021\n",
            "Compress Algo: gzip Encryption: False CaseRetain: False :: Compress Ratio = 2.103\n",
            "Compress Algo: lzma Encryption: True  CaseRetain: True  :: Compress Ratio = 1.418\n",
            "Compress Algo: lzma Encryption: True  CaseRetain: False :: Compress Ratio = 1.466\n",
            "Compress Algo: lzma Encryption: False CaseRetain: True  :: Compress Ratio = 1.953\n",
            "Compress Algo: lzma Encryption: False CaseRetain: False :: Compress Ratio = 2.007\n",
            "Compress Algo: None Encryption: True  CaseRetain: True  :: Compress Ratio = 0.822\n",
            "Compress Algo: None Encryption: True  CaseRetain: False :: Compress Ratio = 0.822\n",
            "Compress Algo: None Encryption: False CaseRetain: True  :: Compress Ratio = 1.361\n",
            "Compress Algo: None Encryption: False CaseRetain: False :: Compress Ratio = 1.425\n"
          ],
          "name": "stdout"
        }
      ]
    },
    {
      "cell_type": "code",
      "metadata": {
        "id": "PPZ4AyNf3cRT",
        "colab_type": "code",
        "colab": {}
      },
      "source": [
        ""
      ],
      "execution_count": 60,
      "outputs": []
    }
  ]
}